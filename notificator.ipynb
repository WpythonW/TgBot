{
 "cells": [
  {
   "cell_type": "code",
   "execution_count": 2,
   "metadata": {},
   "outputs": [],
   "source": [
    "# Ячейка 1: Импорт необходимых библиотек\n",
    "import asyncio\n",
    "from aiogram import Bot\n",
    "from config import TOKEN\n",
    "import nest_asyncio\n",
    "\n",
    "# Применяем nest_asyncio для работы с асинхронным кодом в Jupyter\n",
    "nest_asyncio.apply()"
   ]
  },
  {
   "cell_type": "code",
   "execution_count": null,
   "metadata": {},
   "outputs": [],
   "source": [
    "# Ячейка 2: Функция для отправки уведомлений\n",
    "async def send_notifications(user_ids, message):\n",
    "    bot = Bot(token=TOKEN)\n",
    "    \n",
    "    for user_id in user_ids:\n",
    "        try:\n",
    "            await bot.send_message(chat_id=user_id, text=message)\n",
    "            print(f\"Сообщение отправлено пользователю {user_id}\")\n",
    "            await asyncio.sleep(0.1)  # Небольшая задержка между отправками\n",
    "        except Exception as e:\n",
    "            print(f\"Ошибка при отправке сообщения пользователю {user_id}: {e}\")\n",
    "    \n",
    "    await bot.session.close()\n",
    "\n",
    "# Ячейка 3: Подготовка данных и запуск отправки\n",
    "async def main():\n",
    "    # Список ID пользователей (замените на реальные ID)\n",
    "    user_ids = [123456789, 987654321, 111222333, 444555666, 777888999]\n",
    "    \n",
    "    message = \"Пожалуйста, продолжите регистрацию в нашем боте!\"\n",
    "    \n",
    "    await send_notifications(user_ids, message)"
   ]
  },
  {
   "cell_type": "code",
   "execution_count": null,
   "metadata": {},
   "outputs": [],
   "source": [
    "# Ячейка 4: Запуск основной функции\n",
    "asyncio.run(main())"
   ]
  }
 ],
 "metadata": {
  "kernelspec": {
   "display_name": "Python 3",
   "language": "python",
   "name": "python3"
  },
  "language_info": {
   "codemirror_mode": {
    "name": "ipython",
    "version": 3
   },
   "file_extension": ".py",
   "mimetype": "text/x-python",
   "name": "python",
   "nbconvert_exporter": "python",
   "pygments_lexer": "ipython3",
   "version": "3.11.0"
  }
 },
 "nbformat": 4,
 "nbformat_minor": 2
}
